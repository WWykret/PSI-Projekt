{
 "cells": [
  {
   "cell_type": "code",
   "execution_count": 209,
   "metadata": {},
   "outputs": [],
   "source": [
    "import pandas as pd\n",
    "import numpy as np\n",
    "from sklearn.pipeline import Pipeline"
   ]
  },
  {
   "cell_type": "code",
   "execution_count": 210,
   "metadata": {},
   "outputs": [],
   "source": [
    "movies = pd.read_csv(\"mymoviedb.csv\", lineterminator=\"\\n\")\n",
    "movies.drop(movies[movies[\"Vote_Count\"] == 0].index, inplace=True) # usun filmy z przyszlosci\n",
    "movies.drop([\"Overview\", \"Popularity\", \"Vote_Count\", \"Poster_Url\"], axis=1, inplace=True)\n",
    "\n",
    "X = movies.drop(\"Vote_Average\", axis=1)\n",
    "y = movies[\"Vote_Average\"]"
   ]
  },
  {
   "cell_type": "code",
   "execution_count": 211,
   "metadata": {},
   "outputs": [],
   "source": [
    "from sklearn.model_selection import train_test_split\n",
    "X_train, X_test, y_train, y_test = train_test_split(X, y, test_size=0.10, random_state=42)"
   ]
  },
  {
   "cell_type": "code",
   "execution_count": 212,
   "metadata": {},
   "outputs": [],
   "source": [
    "from sklearn.base import BaseEstimator, TransformerMixin\n",
    "\n",
    "class DataFrameSelector(BaseEstimator, TransformerMixin):\n",
    "    def __init__(self, attribute_names):\n",
    "        self.attribute_names = attribute_names\n",
    "    def fit(self, X, y=None):\n",
    "        return self\n",
    "    def transform(self, X):\n",
    "        return X[self.attribute_names]"
   ]
  },
  {
   "cell_type": "code",
   "execution_count": 213,
   "metadata": {},
   "outputs": [],
   "source": [
    "class MostFrequentImputer(BaseEstimator, TransformerMixin):\n",
    "    def fit(self, X, y=None):\n",
    "        self.most_frequent_ = pd.Series([X[c].value_counts().index[0] for c in X],\n",
    "                                        index=X.columns)\n",
    "        return self\n",
    "    def transform(self, X, y=None):\n",
    "        return X.fillna(self.most_frequent_)\n"
   ]
  },
  {
   "cell_type": "code",
   "execution_count": 214,
   "metadata": {},
   "outputs": [
    {
     "data": {
      "text/plain": [
       "array([[0., 0., 0., ..., 0., 0., 0.],\n",
       "       [0., 0., 0., ..., 0., 0., 0.],\n",
       "       [0., 0., 0., ..., 0., 0., 0.],\n",
       "       ...,\n",
       "       [0., 0., 0., ..., 0., 0., 0.],\n",
       "       [0., 0., 0., ..., 0., 0., 1.],\n",
       "       [0., 0., 0., ..., 0., 0., 0.]])"
      ]
     },
     "execution_count": 214,
     "metadata": {},
     "output_type": "execute_result"
    }
   ],
   "source": [
    "from sklearn.preprocessing import OneHotEncoder\n",
    "\n",
    "simple_cat_pipeline = Pipeline([\n",
    "        (\"select_cat\", DataFrameSelector([\"Original_Language\"])),\n",
    "        (\"imputer\", MostFrequentImputer()),\n",
    "        (\"cat_encoder\", OneHotEncoder(sparse=False, handle_unknown = 'ignore')),\n",
    "    ])\n",
    "\n",
    "simple_cat_pipeline.fit_transform(X_train)"
   ]
  },
  {
   "cell_type": "code",
   "execution_count": 215,
   "metadata": {},
   "outputs": [],
   "source": [
    "from datetime import datetime\n",
    "\n",
    "class DateEncoder(BaseEstimator, TransformerMixin):\n",
    "    def fit(self, X, y=None):\n",
    "        return self\n",
    "        \n",
    "    def transform(self, X, y=None):\n",
    "        cols = []\n",
    "        for col_name in X.columns:\n",
    "            cols.append(X[col_name].map(lambda x: datetime.strptime(x, \"%Y-%m-%d\").year))\n",
    "            cols.append(X[col_name].map(lambda x: datetime.strptime(x, \"%Y-%m-%d\").month))\n",
    "        return np.c_[cols].T\n"
   ]
  },
  {
   "cell_type": "code",
   "execution_count": 216,
   "metadata": {},
   "outputs": [
    {
     "data": {
      "text/plain": [
       "array([[2015,    1],\n",
       "       [2005,    9],\n",
       "       [1992,    4],\n",
       "       ...,\n",
       "       [1983,    7],\n",
       "       [2015,    7],\n",
       "       [2007,    3]], dtype=int64)"
      ]
     },
     "execution_count": 216,
     "metadata": {},
     "output_type": "execute_result"
    }
   ],
   "source": [
    "date_pipeline = Pipeline([\n",
    "        (\"select_date\", DataFrameSelector([\"Release_Date\"])),\n",
    "        (\"imputer\", MostFrequentImputer()),\n",
    "        (\"date_encoder\", DateEncoder()),\n",
    "    ])\n",
    "\n",
    "date_pipeline.fit_transform(X_train)"
   ]
  },
  {
   "cell_type": "code",
   "execution_count": 217,
   "metadata": {},
   "outputs": [],
   "source": [
    "class GenreEncoder(BaseEstimator, TransformerMixin):\n",
    "    def fit(self, X, y=None, delimeter=\",\"):\n",
    "        self.genres = {}\n",
    "        for col in X.columns:\n",
    "            self.genres[col] = set()\n",
    "            for index, row in X.iterrows():\n",
    "                self.genres[col] |= set(map(lambda x: x.strip(), row[col].split(delimeter)))\n",
    "        return self\n",
    "        \n",
    "    def transform(self, X, y=None):\n",
    "        encoded = []\n",
    "        for col, curr_genres in self.genres.items():\n",
    "            for genre in curr_genres:\n",
    "                encoded.append(X[col].str.contains(genre).astype(int))\n",
    "        return np.c_[encoded].T"
   ]
  },
  {
   "cell_type": "code",
   "execution_count": 218,
   "metadata": {},
   "outputs": [
    {
     "data": {
      "text/plain": [
       "array([[1, 0, 0, ..., 0, 0, 0],\n",
       "       [0, 1, 0, ..., 0, 0, 0],\n",
       "       [0, 0, 1, ..., 0, 0, 0],\n",
       "       ...,\n",
       "       [1, 1, 0, ..., 0, 1, 0],\n",
       "       [0, 0, 0, ..., 0, 1, 0],\n",
       "       [0, 0, 1, ..., 0, 0, 0]])"
      ]
     },
     "execution_count": 218,
     "metadata": {},
     "output_type": "execute_result"
    }
   ],
   "source": [
    "genre_pipeline = Pipeline([\n",
    "        (\"select_genre\", DataFrameSelector([\"Genre\"])),\n",
    "        (\"imputer\", MostFrequentImputer()),\n",
    "        (\"genre_encoder\", GenreEncoder()),\n",
    "    ])\n",
    "\n",
    "genre_pipeline.fit_transform(X_train)"
   ]
  },
  {
   "cell_type": "code",
   "execution_count": 219,
   "metadata": {},
   "outputs": [],
   "source": [
    "import re\n",
    "\n",
    "class TitleEncoder(BaseEstimator, TransformerMixin):\n",
    "    def fit(self, X, y=None):\n",
    "        self.genres = {}\n",
    "        return self\n",
    "        \n",
    "    def transform(self, X, y=None):\n",
    "        encoded = []\n",
    "        for col in X.columns:\n",
    "            encoded.append(X[\"Title\"].map(lambda x: bool(re.search(r'\\d', x))).astype(int)) # cyfry w tytule\n",
    "            encoded.append(X[\"Title\"].map(lambda x: len(x.split()))) # ilosc slow w tytule\n",
    "            encoded.append(X[\"Title\"].str.contains(\":\").astype(int)) # dwukropek w tytule\n",
    "            encoded.append(X[\"Title\"].str.contains(\"-\").astype(int)) # pauza w tytule\n",
    "        \n",
    "        return np.c_[encoded].T"
   ]
  },
  {
   "cell_type": "code",
   "execution_count": 220,
   "metadata": {},
   "outputs": [
    {
     "data": {
      "text/plain": [
       "array([[0, 2, 0, 0],\n",
       "       [0, 4, 0, 0],\n",
       "       [0, 1, 0, 0],\n",
       "       ...,\n",
       "       [0, 3, 0, 0],\n",
       "       [0, 5, 1, 0],\n",
       "       [0, 5, 1, 0]], dtype=int64)"
      ]
     },
     "execution_count": 220,
     "metadata": {},
     "output_type": "execute_result"
    }
   ],
   "source": [
    "title_pipeline = Pipeline([\n",
    "        (\"select_title\", DataFrameSelector([\"Title\"])),\n",
    "        (\"imputer\", MostFrequentImputer()),\n",
    "        (\"title_encoder\", TitleEncoder()),\n",
    "    ])\n",
    "\n",
    "title_pipeline.fit_transform(X_train)"
   ]
  },
  {
   "cell_type": "code",
   "execution_count": 221,
   "metadata": {},
   "outputs": [],
   "source": [
    "from sklearn.pipeline import FeatureUnion\n",
    "preprocess_pipeline = FeatureUnion(transformer_list=[\n",
    "        (\"simple_cat_pipeline\", simple_cat_pipeline),\n",
    "        (\"date_pipeline\", date_pipeline),\n",
    "        (\"genre_pipeline\", genre_pipeline),\n",
    "        (\"title_pipeline\", title_pipeline),\n",
    "    ])"
   ]
  },
  {
   "cell_type": "code",
   "execution_count": 225,
   "metadata": {},
   "outputs": [
    {
     "data": {
      "text/plain": [
       "(8754, 66)"
      ]
     },
     "execution_count": 225,
     "metadata": {},
     "output_type": "execute_result"
    }
   ],
   "source": [
    "preprocess_pipeline.transform(X_train).shape"
   ]
  }
 ],
 "metadata": {
  "interpreter": {
   "hash": "dcacb0086e9a4f4eabd41c33bf4faac5ea0a3337ed3f5eff0680afa930572c04"
  },
  "kernelspec": {
   "display_name": "Python 3.9.6 64-bit",
   "language": "python",
   "name": "python3"
  },
  "language_info": {
   "codemirror_mode": {
    "name": "ipython",
    "version": 3
   },
   "file_extension": ".py",
   "mimetype": "text/x-python",
   "name": "python",
   "nbconvert_exporter": "python",
   "pygments_lexer": "ipython3",
   "version": "3.9.6"
  },
  "orig_nbformat": 4
 },
 "nbformat": 4,
 "nbformat_minor": 2
}
